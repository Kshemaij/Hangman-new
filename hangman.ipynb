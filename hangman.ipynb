{
  "nbformat": 4,
  "nbformat_minor": 0,
  "metadata": {
    "colab": {
      "name": "Hangman.ipynb",
      "provenance": [],
      "collapsed_sections": [],
      "authorship_tag": "ABX9TyOkRAxoWRwUCALO8QT4v/nF",
      "include_colab_link": true
    },
    "kernelspec": {
      "name": "python3",
      "display_name": "Python 3"
    }
  },
  "cells": [
    {
      "cell_type": "markdown",
      "metadata": {
        "id": "view-in-github",
        "colab_type": "text"
      },
      "source": [
        "<a href=\"https://colab.research.google.com/gist/grim10/8aace481b47b34839318d07e764a45c0/hangman.ipynb\" target=\"_parent\"><img src=\"https://colab.research.google.com/assets/colab-badge.svg\" alt=\"Open In Colab\"/></a>"
      ]
    },
    {
      "cell_type": "markdown",
      "metadata": {
        "id": "hup46eyYFY4Q"
      },
      "source": [
        "#Create your own Hangman Game in Python!\r\n",
        "![link text](https://i.imgur.com/oXXLf5M.jpg)\r\n",
        "\r\n",
        "Hangman is a popular word guessing game where the player attempts to build a missing word by guessing one letter at a time. After a certain number of incorrect guesses, the game ends and the player loses. The game also ends if the player correctly identifies all the letters of the missing word."
      ]
    },
    {
      "cell_type": "markdown",
      "metadata": {
        "id": "pPPH6Gr3Y-1t"
      },
      "source": [
        "## Hangman: For the beginners\r\n",
        "This is going to be a simple hangman code with no edge cases. Read the code line by line. Once you understand this we will move on to the intermediate level."
      ]
    },
    {
      "cell_type": "code",
      "metadata": {
        "colab": {
          "base_uri": "https://localhost:8080/"
        },
        "id": "8lsGN_2SY_K-",
        "outputId": "0349c1b6-f4c9-4bc7-c8c1-9456656dba0d"
      },
      "source": [
        "#welcoming the user\r\n",
        "name = input(\"Enter your name: \")\r\n",
        "print(\"Hello, \" + name, \"Let's play hangman!\")\r\n",
        "\r\n",
        "print(\"So what's your first guess?\")\r\n",
        "\r\n",
        "#here we set the edureka\r\n",
        "word = \"edureka\"\r\n",
        "\r\n",
        "#creates an variable with an empty value\r\n",
        "guesses = ''\r\n",
        "\r\n",
        "#determine the number of turns\r\n",
        "turns = 10\r\n",
        "\r\n",
        "# Create a while loop and check if the number of turns are more than zero\r\n",
        "while turns > 0:         \r\n",
        "\r\n",
        "    # make a counter that starts with zero. Just a flag.\r\n",
        "    failed = 0             \r\n",
        "\r\n",
        "    # for every character in secret_word    \r\n",
        "    for char in word:      \r\n",
        "\r\n",
        "    # Print if the character is in the players guess\r\n",
        "        if char in guesses:    \r\n",
        "          print(char)\r\n",
        "        else:\r\n",
        "   \r\n",
        "        # if not found, print a dash\r\n",
        "            print(\"_\")\r\n",
        "       \r\n",
        "        # and increase the failed counter with one. \r\n",
        "            failed += 1    \r\n",
        "\r\n",
        "    # if failed is equal to zero print You Won\r\n",
        "    if failed == 0:        \r\n",
        "        print(\"You won\")\r\n",
        "\r\n",
        "    # exit the script\r\n",
        "        break              \r\n",
        "\r\n",
        "    print()\r\n",
        "    # ask the user go guess a character\r\n",
        "    guess = input(\"guess a character:\") \r\n",
        "\r\n",
        "    # set the players guess to guesses\r\n",
        "    guesses += guess                    \r\n",
        "\r\n",
        "    # if the guess is not found in the secret word\r\n",
        "    if guess not in word:  \r\n",
        " \r\n",
        "     # No. of turn decreases: turns counter decreases with 1 (now 9)denoting wrong guess\r\n",
        "        turns -= 1        \r\n",
        "        print(\"Wrong Guess\")    \r\n",
        " \r\n",
        "    # how many turns are left\r\n",
        "        print(\"You have\", + turns, 'more guesses')  \r\n",
        "    # if the turns are equal to zero. User has exhausted all the 10 moves.\r\n",
        "        if turns == 0:           \r\n",
        "    \r\n",
        "        # print \"You Lose\"\r\n",
        "            print (\"You Lose\")"
      ],
      "execution_count": 1,
      "outputs": [
        {
          "output_type": "stream",
          "text": [
            "Enter your name: Atul\n",
            "Hello, Atul Let's play hangman!\n",
            "So what's your first guess?\n",
            "_\n",
            "_\n",
            "_\n",
            "_\n",
            "_\n",
            "_\n",
            "_\n",
            "\n",
            "guess a character:e\n",
            "e\n",
            "_\n",
            "_\n",
            "_\n",
            "e\n",
            "_\n",
            "_\n",
            "\n",
            "guess a character:E\n",
            "Wrong Guess\n",
            "You have 9 more guesses\n",
            "e\n",
            "_\n",
            "_\n",
            "_\n",
            "e\n",
            "_\n",
            "_\n",
            "\n",
            "guess a character:r\n",
            "e\n",
            "_\n",
            "_\n",
            "r\n",
            "e\n",
            "_\n",
            "_\n",
            "\n",
            "guess a character:k\n",
            "e\n",
            "_\n",
            "_\n",
            "r\n",
            "e\n",
            "k\n",
            "_\n",
            "\n",
            "guess a character:a\n",
            "e\n",
            "_\n",
            "_\n",
            "r\n",
            "e\n",
            "k\n",
            "a\n",
            "\n",
            "guess a character:d\n",
            "e\n",
            "d\n",
            "_\n",
            "r\n",
            "e\n",
            "k\n",
            "a\n",
            "\n",
            "guess a character:u\n",
            "e\n",
            "d\n",
            "u\n",
            "r\n",
            "e\n",
            "k\n",
            "a\n",
            "You won\n"
          ],
          "name": "stdout"
        }
      ]
    },
    {
      "cell_type": "markdown",
      "metadata": {
        "id": "yaOor9_FbJD9"
      },
      "source": [
        "##Hangman: Intermediate Level\r\n",
        "This is an intermediate level we are adding more words to be guessed. "
      ]
    },
    {
      "cell_type": "code",
      "metadata": {
        "colab": {
          "base_uri": "https://localhost:8080/",
          "height": 1000
        },
        "id": "Rv-cFQJFjabk",
        "outputId": "666abc4d-b86a-4517-a3bd-b4296d0d9a41"
      },
      "source": [
        "import sys\r\n",
        "import random\r\n",
        "name = input(\"What is your name?\\n\")\r\n",
        "def run():\r\n",
        "  print(f\"Hello, {name}, let's play hangman!\")\r\n",
        "  print(\"Start guessing...\")\r\n",
        "  #Defining the bag of words\r\n",
        "  bag_of_words = ['Edureka',\"python\", \"machinelearning\", \"looping\", \"whileloop\", \"devops\", \"forloop\", \"deeplearning\", \"oops\", \"condition\", \"preprocessing\", \"modelling\", \"algorithms\", \"parameters\", \"control\", \"exception\", \"nomalization\"]\r\n",
        "  word = random.choice(bag_of_words)\r\n",
        "  guesses = \" \"\r\n",
        "  turns = 10\r\n",
        "  while turns > 0:\r\n",
        "    failed = 0\r\n",
        "    for char in word:\r\n",
        "      if char in guesses:\r\n",
        "        print(char)\r\n",
        "      else:\r\n",
        "        print(\"_\")\r\n",
        "        failed += 1\r\n",
        "    if failed == 0:\r\n",
        "      print(\"You win!\")\r\n",
        "      choice = input(\"Would you like to play again? y/n\\n\")\r\n",
        "      if \"y\" in choice:\r\n",
        "        run()\r\n",
        "      elif \"n\" in choice:\r\n",
        "        sys.exit()\r\n",
        "      else:\r\n",
        "        print(\"Something went wrong, type y or n.\")\r\n",
        "    guess = input(\"Guess a character:\")\r\n",
        "    guesses += guess\r\n",
        "    if guess not in word:\r\n",
        "      turns -= 1\r\n",
        "      print(\"Wrong!\")\r\n",
        "      print(f\"You have {turns} more guesses.\")\r\n",
        "      if turns == 0:\r\n",
        "        print(\"You lose!\")\r\n",
        "        choice = input(\"Would you like to play again? y/n\\n\")\r\n",
        "        if \"y\" in choice:\r\n",
        "          run()\r\n",
        "        elif \"n\" in choice:\r\n",
        "          sys.exit()\r\n",
        "        else:\r\n",
        "          print(\"Something went wrong, type y or n.\")\r\n",
        "run()"
      ],
      "execution_count": 2,
      "outputs": [
        {
          "output_type": "stream",
          "text": [
            "What is your name?\n",
            "Atul\n",
            "Hello, Atul, let's play hangman!\n",
            "Start guessing...\n",
            "_\n",
            "_\n",
            "_\n",
            "_\n",
            "_\n",
            "_\n",
            "_\n",
            "_\n",
            "_\n",
            "Guess a character:i\n",
            "_\n",
            "_\n",
            "_\n",
            "_\n",
            "i\n",
            "_\n",
            "i\n",
            "_\n",
            "_\n",
            "Guess a character:n\n",
            "_\n",
            "_\n",
            "n\n",
            "_\n",
            "i\n",
            "_\n",
            "i\n",
            "_\n",
            "n\n",
            "Guess a character:co\n",
            "c\n",
            "o\n",
            "n\n",
            "_\n",
            "i\n",
            "_\n",
            "i\n",
            "o\n",
            "n\n",
            "Guess a character:d\n",
            "c\n",
            "o\n",
            "n\n",
            "d\n",
            "i\n",
            "_\n",
            "i\n",
            "o\n",
            "n\n",
            "Guess a character:p\n",
            "Wrong!\n",
            "You have 9 more guesses.\n",
            "c\n",
            "o\n",
            "n\n",
            "d\n",
            "i\n",
            "_\n",
            "i\n",
            "o\n",
            "n\n",
            "Guess a character:t\n",
            "c\n",
            "o\n",
            "n\n",
            "d\n",
            "i\n",
            "t\n",
            "i\n",
            "o\n",
            "n\n",
            "You win!\n",
            "Would you like to play again? y/n\n",
            "n\n"
          ],
          "name": "stdout"
        },
        {
          "output_type": "error",
          "ename": "SystemExit",
          "evalue": "ignored",
          "traceback": [
            "An exception has occurred, use %tb to see the full traceback.\n",
            "\u001b[0;31mSystemExit\u001b[0m\n"
          ]
        },
        {
          "output_type": "stream",
          "text": [
            "/usr/local/lib/python3.7/dist-packages/IPython/core/interactiveshell.py:2890: UserWarning: To exit: use 'exit', 'quit', or Ctrl-D.\n",
            "  warn(\"To exit: use 'exit', 'quit', or Ctrl-D.\", stacklevel=1)\n"
          ],
          "name": "stderr"
        }
      ]
    },
    {
      "cell_type": "markdown",
      "metadata": {
        "id": "vfnFZ22Ujf9Q"
      },
      "source": [
        "##Hangman: Advance Level\r\n",
        "I hope by now you are ready to improve the game. Try this once you have completed both the previous levels."
      ]
    },
    {
      "cell_type": "markdown",
      "metadata": {
        "id": "Wc0xhyuRJVe2"
      },
      "source": [
        "###Step 1: Install Random-word"
      ]
    },
    {
      "cell_type": "code",
      "metadata": {
        "colab": {
          "base_uri": "https://localhost:8080/"
        },
        "id": "JhMJkrco1A9N",
        "outputId": "cc81b5d6-915b-4291-a9d6-7c5c0897d318"
      },
      "source": [
        "#This is a simple python package to generate random english words\r\n",
        "!pip install Random-Word"
      ],
      "execution_count": 2,
      "outputs": [
        {
          "output_type": "stream",
          "text": [
            "Requirement already satisfied: Random-Word in /usr/local/lib/python3.7/dist-packages (1.0.7)\n",
            "Requirement already satisfied: nose in /usr/local/lib/python3.7/dist-packages (from Random-Word) (1.3.7)\n",
            "Requirement already satisfied: requests in /usr/local/lib/python3.7/dist-packages (from Random-Word) (2.23.0)\n",
            "Requirement already satisfied: idna<3,>=2.5 in /usr/local/lib/python3.7/dist-packages (from requests->Random-Word) (2.10)\n",
            "Requirement already satisfied: chardet<4,>=3.0.2 in /usr/local/lib/python3.7/dist-packages (from requests->Random-Word) (3.0.4)\n",
            "Requirement already satisfied: certifi>=2017.4.17 in /usr/local/lib/python3.7/dist-packages (from requests->Random-Word) (2020.12.5)\n",
            "Requirement already satisfied: urllib3!=1.25.0,!=1.25.1,<1.26,>=1.21.1 in /usr/local/lib/python3.7/dist-packages (from requests->Random-Word) (1.24.3)\n"
          ],
          "name": "stdout"
        }
      ]
    },
    {
      "cell_type": "code",
      "metadata": {
        "colab": {
          "base_uri": "https://localhost:8080/"
        },
        "id": "6FaR7Pp21iUr",
        "outputId": "7deee9b3-799f-4fb0-ee8e-02d4475455d5"
      },
      "source": [
        "#An example of how it works\r\n",
        "from random_word import RandomWords\r\n",
        "r = RandomWords()\r\n",
        "# Return list of Random words\r\n",
        "r.get_random_words()"
      ],
      "execution_count": 3,
      "outputs": [
        {
          "output_type": "execute_result",
          "data": {
            "text/plain": [
              "['bulti',\n",
              " 'Rauschenberg',\n",
              " 'quizzing',\n",
              " 'stairwell',\n",
              " 'were-jaguar',\n",
              " 'digressing',\n",
              " 'multicore',\n",
              " 'Posadas',\n",
              " 'decolonises',\n",
              " 'quibblingly',\n",
              " 'Lubitsch',\n",
              " 'decahydrate',\n",
              " 'kimberlites',\n",
              " 'disinhibitor',\n",
              " 'Tsinan',\n",
              " 'situates',\n",
              " 'torcher',\n",
              " 'forswearer',\n",
              " 'Eyemouth',\n",
              " 'biennale',\n",
              " 'moralizes',\n",
              " 'stitches',\n",
              " 'chloranthus',\n",
              " 'benzol',\n",
              " 'delimbed',\n",
              " 'vis-a-vis',\n",
              " 'churners',\n",
              " 'supplicates',\n",
              " 'aminobenzoate',\n",
              " 'hybridising',\n",
              " 'dimple',\n",
              " 'meat-eating',\n",
              " 'conformists',\n",
              " 'cartable',\n",
              " 'misdeem',\n",
              " 'impeditive',\n",
              " 'subverting',\n",
              " 'prefigurative',\n",
              " 'artisanal',\n",
              " 'gager',\n",
              " 'extirp',\n",
              " 'damasking',\n",
              " 'altar-herse',\n",
              " 'hobbleshow',\n",
              " 'hatstand',\n",
              " 'bacteriome',\n",
              " 'long-horned',\n",
              " 'checks',\n",
              " 'sodicity',\n",
              " 'horologue']"
            ]
          },
          "metadata": {
            "tags": []
          },
          "execution_count": 3
        }
      ]
    },
    {
      "cell_type": "markdown",
      "metadata": {
        "id": "0W4LYYrHIWKU"
      },
      "source": [
        "###Step 2: Define Function 1: get_num_attempts()\r\n",
        "This function will ask the user to enter the number of worng attempts allowed in the game."
      ]
    },
    {
      "cell_type": "code",
      "metadata": {
        "id": "gfENHM2J09xG"
      },
      "source": [
        "def get_num_attempts():\r\n",
        "#Get user-inputted number of incorrect attempts for the game.\r\n",
        "  while True:\r\n",
        "    num_attempts = input('How many incorrect attempts do you want? [1-25] ')\r\n",
        "    try:\r\n",
        "      num_attempts = int(num_attempts)\r\n",
        "      if 1 <= num_attempts <= 25:\r\n",
        "        return num_attempts\r\n",
        "      else:\r\n",
        "        print('{0} is not between 1 and 25'.format(num_attempts))\r\n",
        "    except ValueError:\r\n",
        "      print('{0} is not an integer between 1 and 25'.format(num_attempts))\r\n",
        " "
      ],
      "execution_count": 4,
      "outputs": []
    },
    {
      "cell_type": "markdown",
      "metadata": {
        "id": "Urpiw9SvI1qu"
      },
      "source": [
        "###Step 3: Function 2: get_min_word_length()\r\n",
        "Now that you know the total number of worng attempts. Next step is to create a function which will ask the user to enter the length of the word to be predicted in the game."
      ]
    },
    {
      "cell_type": "code",
      "metadata": {
        "id": "gAksAlg81-z-"
      },
      "source": [
        "def get_min_word_length():\r\n",
        "#Get user-inputted minimum word length for the game.\r\n",
        "  while True:\r\n",
        "    min_word_length = input('What minimum word length do you want? [4-16] ')\r\n",
        "    try:\r\n",
        "      min_word_length = int(min_word_length)\r\n",
        "      if 4 <= min_word_length <= 16:\r\n",
        "        return min_word_length\r\n",
        "      else:\r\n",
        "        print('{0} is not between 4 and 16'.format(min_word_length))\r\n",
        "    except ValueError:\r\n",
        "      print('{0} is not an integer between 4 and 16'.format(min_word_length)) "
      ],
      "execution_count": 5,
      "outputs": []
    },
    {
      "cell_type": "markdown",
      "metadata": {
        "id": "p_i3D_qsJmyi"
      },
      "source": [
        "###Step 4: Function 3: get_display_word()\r\n",
        "This function will be used later to display the word if the word length and index length is not same."
      ]
    },
    {
      "cell_type": "code",
      "metadata": {
        "id": "vWOSiugP2blr"
      },
      "source": [
        "def get_display_word(word, idxs):     \r\n",
        "# Get the word suitable for display.\r\n",
        "  if len(word) != len(idxs):        \r\n",
        "     raise ValueError('Word length and indices length are not the same')     \r\n",
        "     displayed_word = ''.join([letter if idxs[i] else '*' for i, letter in enumerate(word)])\r\n",
        "     return displayed_word.strip()"
      ],
      "execution_count": 6,
      "outputs": []
    },
    {
      "cell_type": "markdown",
      "metadata": {
        "id": "2kF5EekLKNlg"
      },
      "source": [
        "###Step 5: Function 4: get_next_letter()\r\n",
        "Define a function which could get the next guess from user as an input. Here we have to check the following:\r\n",
        "- Next letter is not more than a single character\r\n",
        "- Next letter is a letter (no other character)\r\n",
        "- Next letter is not already guessed before\r\n"
      ]
    },
    {
      "cell_type": "code",
      "metadata": {
        "id": "QsvH-SIU2e5_"
      },
      "source": [
        "from string import ascii_lowercase\r\n",
        "def get_next_letter(remaining_letters):\r\n",
        "#Get the user-inputted next letter.\r\n",
        "  if len(remaining_letters) == 0:\r\n",
        "    raise ValueError('There are no remaining letters')\r\n",
        "  while True:\r\n",
        "    next_letter = input('Guess a character: ').lower()\r\n",
        "    if len(next_letter) != 1:\r\n",
        "      print('{0} is not a single character'.format(next_letter))\r\n",
        "    elif next_letter not in ascii_lowercase:\r\n",
        "      print('{0} is not a letter'.format(next_letter))\r\n",
        "    elif next_letter not in remaining_letters:\r\n",
        "      print('{0} has been guessed before'.format(next_letter))\r\n",
        "    else:\r\n",
        "      remaining_letters.remove(next_letter)\r\n",
        "    return next_letter "
      ],
      "execution_count": 7,
      "outputs": []
    },
    {
      "cell_type": "markdown",
      "metadata": {
        "id": "4V-iPFH2LYOL"
      },
      "source": [
        "###Step 6: Function 5: play_hangman()\r\n",
        "Final function to integrate all the above functions. Here you need to allow the user to retry in case he wants. \r\n",
        "- Length of words entered by the user defines the difficulty in the game. \r\n",
        "- Randomly select a word from the Random-word library.\r\n",
        "- Display the current status of the game. Like: Total remaining attempts, list of previous guess made by the user.\r\n",
        "- Once the game is ended finally disply if the user has won or not depening on his successful attempt.\r\n"
      ]
    },
    {
      "cell_type": "code",
      "metadata": {
        "id": "B1Rg7xdx-gTP"
      },
      "source": [
        "def play_hangman():\r\n",
        "    \"\"\"Play a game of hangman.\r\n",
        "    At the end of the game, returns if the player wants to retry.\r\n",
        "    \"\"\"\r\n",
        "    name = input(\"What is your name? \")\r\n",
        "    print(\"Hello, \" + name, \"Let's play hangman!\")\r\n",
        "    \r\n",
        "    # Let player specify difficulty\r\n",
        "    print('Starting a game of Hangman...')\r\n",
        "    attempts_remaining = get_num_attempts()\r\n",
        "    min_word_length = get_min_word_length()\r\n",
        "\r\n",
        "    # Randomly select a word\r\n",
        "    print('Selecting a word...')\r\n",
        "    word = r.get_random_word(minLength = (min_word_length-1))\r\n",
        "    print()\r\n",
        "\r\n",
        "    # Initialize game state variables\r\n",
        "    idxs = [letter not in ascii_lowercase for letter in word]\r\n",
        "    remaining_letters = set(ascii_lowercase)\r\n",
        "    wrong_letters = []\r\n",
        "    word_solved = False\r\n",
        "\r\n",
        "    # Main game loop\r\n",
        "    while attempts_remaining > 0 and not word_solved:\r\n",
        "        # Print current game state\r\n",
        "        print('Word: {0}'.format(get_display_word(word, idxs)))\r\n",
        "        print('Attempts Remaining: {0}'.format(attempts_remaining))\r\n",
        "        print('Previous Guesses: {0}'.format(' '.join(wrong_letters)))\r\n",
        "\r\n",
        "        # Get player's next letter guess\r\n",
        "        next_letter = get_next_letter(remaining_letters)\r\n",
        "\r\n",
        "        # Check if letter guess is in word\r\n",
        "        if next_letter in word:\r\n",
        "            # Guessed correctly\r\n",
        "            print('{0} is in the word!'.format(next_letter))\r\n",
        "\r\n",
        "            # Reveal matching letters\r\n",
        "            for i in range(len(word)):\r\n",
        "                if word[i] == next_letter:\r\n",
        "                    idxs[i] = True\r\n",
        "        else:\r\n",
        "            # Guessed incorrectly\r\n",
        "            print('{0} is NOT in the word!'.format(next_letter))\r\n",
        "\r\n",
        "            # Decrement num of attempts left and append guess to wrong guesses\r\n",
        "            attempts_remaining -= 1\r\n",
        "            wrong_letters.append(next_letter)\r\n",
        "\r\n",
        "        # Check if word is completely solved\r\n",
        "        if False not in idxs:\r\n",
        "            word_solved = True\r\n",
        "        print()\r\n",
        "\r\n",
        "    # The game is over: reveal the word\r\n",
        "    print('The word is {0}'.format(word))\r\n",
        "\r\n",
        "    # Notify player of victory or defeat\r\n",
        "    if word_solved:\r\n",
        "        print('Congratulations!'+name+ 'You won!')\r\n",
        "    else:\r\n",
        "        print('Oops'+name+' you were not able to guess the word ')\r\n",
        "\r\n",
        "    # Ask player if he/she wants to try again\r\n",
        "    try_again = input('Would you like to try again? [y/n] ')\r\n",
        "    return try_again.lower() == 'y'"
      ],
      "execution_count": 8,
      "outputs": []
    },
    {
      "cell_type": "code",
      "metadata": {
        "colab": {
          "base_uri": "https://localhost:8080/"
        },
        "id": "vn4c5KuF9s8L",
        "outputId": "6c1d4c40-68de-4ee7-a710-33602647b542"
      },
      "source": [
        "if __name__ == '__main__':\r\n",
        "    while play_hangman():\r\n",
        "        print()\r\n",
        " "
      ],
      "execution_count": 11,
      "outputs": [
        {
          "output_type": "stream",
          "text": [
            "What is your name? 5\n",
            "Hello, 5 Let's play hangman!\n",
            "Starting a game of Hangman...\n",
            "How many incorrect attempts do you want? [1-25] 6\n",
            "What minimum word length do you want? [4-16] 5\n",
            "Selecting a word...\n",
            "\n",
            "Word: None\n",
            "Attempts Remaining: 6\n",
            "Previous Guesses: \n",
            "Guess a character: r\n",
            "r is in the word!\n",
            "\n",
            "Word: None\n",
            "Attempts Remaining: 6\n",
            "Previous Guesses: \n",
            "Guess a character: a\n",
            "a is NOT in the word!\n",
            "\n",
            "Word: None\n",
            "Attempts Remaining: 5\n",
            "Previous Guesses: a\n",
            "Guess a character: p\n",
            "p is NOT in the word!\n",
            "\n",
            "Word: None\n",
            "Attempts Remaining: 4\n",
            "Previous Guesses: a p\n",
            "Guess a character: i\n",
            "i is NOT in the word!\n",
            "\n",
            "Word: None\n",
            "Attempts Remaining: 3\n",
            "Previous Guesses: a p i\n",
            "Guess a character: o\n",
            "o is in the word!\n",
            "\n",
            "Word: None\n",
            "Attempts Remaining: 3\n",
            "Previous Guesses: a p i\n",
            "Guess a character: w\n",
            "w is NOT in the word!\n",
            "\n",
            "Word: None\n",
            "Attempts Remaining: 2\n",
            "Previous Guesses: a p i w\n",
            "Guess a character: e\n",
            "e is in the word!\n",
            "\n",
            "Word: None\n",
            "Attempts Remaining: 2\n",
            "Previous Guesses: a p i w\n",
            "Guess a character: t\n",
            "t is in the word!\n",
            "\n",
            "Word: None\n",
            "Attempts Remaining: 2\n",
            "Previous Guesses: a p i w\n",
            "Guess a character: s\n",
            "s is NOT in the word!\n",
            "\n",
            "Word: None\n",
            "Attempts Remaining: 1\n",
            "Previous Guesses: a p i w s\n",
            "Guess a character: l\n",
            "l is NOT in the word!\n",
            "\n",
            "The word is torment\n",
            "Oops5 you were not able to guess the word \n",
            "Would you like to try again? [y/n] n\n"
          ],
          "name": "stdout"
        }
      ]
    }
  ]
}
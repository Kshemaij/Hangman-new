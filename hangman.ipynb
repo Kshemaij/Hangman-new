{
  "cells": [
    {
      "cell_type": "markdown",
      "metadata": {
        "colab_type": "text",
        "id": "view-in-github"
      },
      "source": [
        "<a href=\"https://colab.research.google.com/gist/grim10/8aace481b47b34839318d07e764a45c0/hangman.ipynb\" target=\"_parent\"><img src=\"https://colab.research.google.com/assets/colab-badge.svg\" alt=\"Open In Colab\"/></a>"
      ]
    },
    {
      "cell_type": "markdown",
      "metadata": {
        "id": "hup46eyYFY4Q"
      },
      "source": [
        "#Create your own Hangman Game in Python!\n",
        "![link text](https://i.imgur.com/oXXLf5M.jpg)\n",
        "\n",
        "Hangman is a popular word guessing game where the player attempts to build a missing word by guessing one letter at a time. After a certain number of incorrect guesses, the game ends and the player loses. The game also ends if the player correctly identifies all the letters of the missing word."
      ]
    },
    {
      "cell_type": "markdown",
      "metadata": {
        "id": "pPPH6Gr3Y-1t"
      },
      "source": [
        "## Hangman: For the beginners\n",
        "This is going to be a simple hangman code with no edge cases. Read the code line by line. Once you understand this we will move on to the intermediate level."
      ]
    },
    {
      "cell_type": "code",
      "execution_count": 1,
      "metadata": {
        "colab": {
          "base_uri": "https://localhost:8080/"
        },
        "id": "8lsGN_2SY_K-",
        "outputId": "0349c1b6-f4c9-4bc7-c8c1-9456656dba0d"
      },
      "outputs": [
        {
          "name": "stdout",
          "output_type": "stream",
          "text": [
            "Enter your name: Atul\n",
            "Hello, Atul Let's play hangman!\n",
            "So what's your first guess?\n",
            "_\n",
            "_\n",
            "_\n",
            "_\n",
            "_\n",
            "_\n",
            "_\n",
            "\n",
            "guess a character:e\n",
            "e\n",
            "_\n",
            "_\n",
            "_\n",
            "e\n",
            "_\n",
            "_\n",
            "\n",
            "guess a character:E\n",
            "Wrong Guess\n",
            "You have 9 more guesses\n",
            "e\n",
            "_\n",
            "_\n",
            "_\n",
            "e\n",
            "_\n",
            "_\n",
            "\n",
            "guess a character:r\n",
            "e\n",
            "_\n",
            "_\n",
            "r\n",
            "e\n",
            "_\n",
            "_\n",
            "\n",
            "guess a character:k\n",
            "e\n",
            "_\n",
            "_\n",
            "r\n",
            "e\n",
            "k\n",
            "_\n",
            "\n",
            "guess a character:a\n",
            "e\n",
            "_\n",
            "_\n",
            "r\n",
            "e\n",
            "k\n",
            "a\n",
            "\n",
            "guess a character:d\n",
            "e\n",
            "d\n",
            "_\n",
            "r\n",
            "e\n",
            "k\n",
            "a\n",
            "\n",
            "guess a character:u\n",
            "e\n",
            "d\n",
            "u\n",
            "r\n",
            "e\n",
            "k\n",
            "a\n",
            "You won\n"
          ]
        }
      ],
      "source": [
        "#welcoming the user\n",
        "name = input(\"Enter your name: \")\n",
        "print(\"Hello, \" + name, \"Let's play hangman!\")\n",
        "\n",
        "print(\"So what's your first guess?\")\n",
        "\n",
        "#here we set the edureka\n",
        "word = \"edureka\"\n",
        "\n",
        "#creates an variable with an empty value\n",
        "guesses = ''\n",
        "\n",
        "#determine the number of turns\n",
        "turns = 10\n",
        "\n",
        "# Create a while loop and check if the number of turns are more than zero\n",
        "while turns > 0:         \n",
        "\n",
        "    # make a counter that starts with zero. Just a flag.\n",
        "    failed = 0             \n",
        "\n",
        "    # for every character in secret_word    \n",
        "    for char in word:      \n",
        "\n",
        "    # Print if the character is in the players guess\n",
        "        if char in guesses:    \n",
        "          print(char)\n",
        "        else:\n",
        "   \n",
        "        # if not found, print a dash\n",
        "            print(\"_\")\n",
        "       \n",
        "        # and increase the failed counter with one. \n",
        "            failed += 1    \n",
        "\n",
        "    # if failed is equal to zero print You Won\n",
        "    if failed == 0:        \n",
        "        print(\"You won\")\n",
        "\n",
        "    # exit the script\n",
        "        break              \n",
        "\n",
        "    print()\n",
        "    # ask the user go guess a character\n",
        "    guess = input(\"guess a character:\") \n",
        "\n",
        "    # set the players guess to guesses\n",
        "    guesses += guess                    \n",
        "\n",
        "    # if the guess is not found in the secret word\n",
        "    if guess not in word:  \n",
        " \n",
        "     # No. of turn decreases: turns counter decreases with 1 (now 9)denoting wrong guess\n",
        "        turns -= 1        \n",
        "        print(\"Wrong Guess\")    \n",
        " \n",
        "    # how many turns are left\n",
        "        print(\"You have\", + turns, 'more guesses')  \n",
        "    # if the turns are equal to zero. User has exhausted all the 10 moves.\n",
        "        if turns == 0:           \n",
        "    \n",
        "        # print \"You Lose\"\n",
        "            print (\"You Lose\")"
      ]
    },
    {
      "cell_type": "markdown",
      "metadata": {
        "id": "yaOor9_FbJD9"
      },
      "source": [
        "##Hangman: Intermediate Level\n",
        "This is an intermediate level we are adding more words to be guessed. "
      ]
    },
    {
      "cell_type": "code",
      "execution_count": 2,
      "metadata": {
        "colab": {
          "base_uri": "https://localhost:8080/",
          "height": 1000
        },
        "id": "Rv-cFQJFjabk",
        "outputId": "666abc4d-b86a-4517-a3bd-b4296d0d9a41"
      },
      "outputs": [
        {
          "name": "stdout",
          "output_type": "stream",
          "text": [
            "What is your name?\n",
            "Atul\n",
            "Hello, Atul, let's play hangman!\n",
            "Start guessing...\n",
            "_\n",
            "_\n",
            "_\n",
            "_\n",
            "_\n",
            "_\n",
            "_\n",
            "_\n",
            "_\n",
            "Guess a character:i\n",
            "_\n",
            "_\n",
            "_\n",
            "_\n",
            "i\n",
            "_\n",
            "i\n",
            "_\n",
            "_\n",
            "Guess a character:n\n",
            "_\n",
            "_\n",
            "n\n",
            "_\n",
            "i\n",
            "_\n",
            "i\n",
            "_\n",
            "n\n",
            "Guess a character:co\n",
            "c\n",
            "o\n",
            "n\n",
            "_\n",
            "i\n",
            "_\n",
            "i\n",
            "o\n",
            "n\n",
            "Guess a character:d\n",
            "c\n",
            "o\n",
            "n\n",
            "d\n",
            "i\n",
            "_\n",
            "i\n",
            "o\n",
            "n\n",
            "Guess a character:p\n",
            "Wrong!\n",
            "You have 9 more guesses.\n",
            "c\n",
            "o\n",
            "n\n",
            "d\n",
            "i\n",
            "_\n",
            "i\n",
            "o\n",
            "n\n",
            "Guess a character:t\n",
            "c\n",
            "o\n",
            "n\n",
            "d\n",
            "i\n",
            "t\n",
            "i\n",
            "o\n",
            "n\n",
            "You win!\n",
            "Would you like to play again? y/n\n",
            "n\n"
          ]
        },
        {
          "ename": "SystemExit",
          "evalue": "ignored",
          "output_type": "error",
          "traceback": [
            "An exception has occurred, use %tb to see the full traceback.\n",
            "\u001b[0;31mSystemExit\u001b[0m\n"
          ]
        },
        {
          "name": "stderr",
          "output_type": "stream",
          "text": [
            "/usr/local/lib/python3.7/dist-packages/IPython/core/interactiveshell.py:2890: UserWarning: To exit: use 'exit', 'quit', or Ctrl-D.\n",
            "  warn(\"To exit: use 'exit', 'quit', or Ctrl-D.\", stacklevel=1)\n"
          ]
        }
      ],
      "source": [
        "import sys\n",
        "import random\n",
        "name = input(\"What is your name?\\n\")\n",
        "def run_hangman():\n",
        "  print(f\"Hello, {name}, let's play hangman!\")\n",
        "  print(\"Start guessing...\")\n",
        "  #Defining the bag of words\n",
        "  bag_of_words = ['Edureka',\"python\", \"machinelearning\", \"looping\", \"whileloop\", \"devops\", \"forloop\", \"deeplearning\", \"oops\", \"condition\", \"preprocessing\", \"modelling\", \"algorithms\", \"parameters\", \"control\", \"exception\", \"nomalization\"]\n",
        "  word = random.choice(bag_of_words)\n",
        "  guesses = \" \"\n",
        "  turns = 10\n",
        "  while turns > 0:\n",
        "    failed = 0\n",
        "    for char in word:\n",
        "      if char in guesses:\n",
        "        print(char)\n",
        "      else:\n",
        "        print(\"_\")\n",
        "        failed += 1\n",
        "    if failed == 0:\n",
        "      print(\"You win!\")\n",
        "      choice = input(\"Would you like to play again? y/n\\n\")\n",
        "      if \"y\" in choice:\n",
        "        run_hangman()\n",
        "      elif \"n\" in choice:\n",
        "        sys.exit()\n",
        "      else:\n",
        "        print(\"Something went wrong, type y or n.\")\n",
        "    guess = input(\"Guess a character:\")\n",
        "    guesses += guess\n",
        "    if guess not in word:\n",
        "      turns -= 1\n",
        "      print(\"Wrong!\")\n",
        "      print(f\"You have {turns} more guesses.\")\n",
        "      if turns == 0:\n",
        "        print(\"You lose!\")\n",
        "        choice = input(\"Would you like to play again? y/n\\n\")\n",
        "        if \"y\" in choice:\n",
        "          run_hangman()\n",
        "        elif \"n\" in choice:\n",
        "          sys.exit()\n",
        "        else:\n",
        "          print(\"Something went wrong, type y or n.\")\n",
        "run_hangman()"
      ]
    },
    {
      "cell_type": "markdown",
      "metadata": {
        "id": "vfnFZ22Ujf9Q"
      },
      "source": [
        "##Hangman: Advance Level\n",
        "I hope by now you are ready to improve the game. Try this once you have completed both the previous levels."
      ]
    },
    {
      "cell_type": "markdown",
      "metadata": {
        "id": "Wc0xhyuRJVe2"
      },
      "source": [
        "###Step 1: Install Random-word"
      ]
    },
    {
      "cell_type": "code",
      "execution_count": 2,
      "metadata": {
        "colab": {
          "base_uri": "https://localhost:8080/"
        },
        "id": "JhMJkrco1A9N",
        "outputId": "cc81b5d6-915b-4291-a9d6-7c5c0897d318"
      },
      "outputs": [
        {
          "name": "stdout",
          "output_type": "stream",
          "text": [
            "Requirement already satisfied: Random-Word in /usr/local/lib/python3.7/dist-packages (1.0.7)\n",
            "Requirement already satisfied: nose in /usr/local/lib/python3.7/dist-packages (from Random-Word) (1.3.7)\n",
            "Requirement already satisfied: requests in /usr/local/lib/python3.7/dist-packages (from Random-Word) (2.23.0)\n",
            "Requirement already satisfied: idna<3,>=2.5 in /usr/local/lib/python3.7/dist-packages (from requests->Random-Word) (2.10)\n",
            "Requirement already satisfied: chardet<4,>=3.0.2 in /usr/local/lib/python3.7/dist-packages (from requests->Random-Word) (3.0.4)\n",
            "Requirement already satisfied: certifi>=2017.4.17 in /usr/local/lib/python3.7/dist-packages (from requests->Random-Word) (2020.12.5)\n",
            "Requirement already satisfied: urllib3!=1.25.0,!=1.25.1,<1.26,>=1.21.1 in /usr/local/lib/python3.7/dist-packages (from requests->Random-Word) (1.24.3)\n"
          ]
        }
      ],
      "source": [
        "#This is a simple python package to generate random english words\n",
        "!pip install Random-Word"
      ]
    },
    {
      "cell_type": "code",
      "execution_count": 3,
      "metadata": {
        "colab": {
          "base_uri": "https://localhost:8080/"
        },
        "id": "6FaR7Pp21iUr",
        "outputId": "7deee9b3-799f-4fb0-ee8e-02d4475455d5"
      },
      "outputs": [
        {
          "data": {
            "text/plain": [
              "['bulti',\n",
              " 'Rauschenberg',\n",
              " 'quizzing',\n",
              " 'stairwell',\n",
              " 'were-jaguar',\n",
              " 'digressing',\n",
              " 'multicore',\n",
              " 'Posadas',\n",
              " 'decolonises',\n",
              " 'quibblingly',\n",
              " 'Lubitsch',\n",
              " 'decahydrate',\n",
              " 'kimberlites',\n",
              " 'disinhibitor',\n",
              " 'Tsinan',\n",
              " 'situates',\n",
              " 'torcher',\n",
              " 'forswearer',\n",
              " 'Eyemouth',\n",
              " 'biennale',\n",
              " 'moralizes',\n",
              " 'stitches',\n",
              " 'chloranthus',\n",
              " 'benzol',\n",
              " 'delimbed',\n",
              " 'vis-a-vis',\n",
              " 'churners',\n",
              " 'supplicates',\n",
              " 'aminobenzoate',\n",
              " 'hybridising',\n",
              " 'dimple',\n",
              " 'meat-eating',\n",
              " 'conformists',\n",
              " 'cartable',\n",
              " 'misdeem',\n",
              " 'impeditive',\n",
              " 'subverting',\n",
              " 'prefigurative',\n",
              " 'artisanal',\n",
              " 'gager',\n",
              " 'extirp',\n",
              " 'damasking',\n",
              " 'altar-herse',\n",
              " 'hobbleshow',\n",
              " 'hatstand',\n",
              " 'bacteriome',\n",
              " 'long-horned',\n",
              " 'checks',\n",
              " 'sodicity',\n",
              " 'horologue']"
            ]
          },
          "execution_count": 3,
          "metadata": {
            "tags": []
          },
          "output_type": "execute_result"
        }
      ],
      "source": [
        "#An example of how it works\n",
        "from random_word import RandomWords\n",
        "r = RandomWords()\n",
        "# Return list of Random words\n",
        "r.get_random_words()"
      ]
    },
    {
      "cell_type": "markdown",
      "metadata": {
        "id": "0W4LYYrHIWKU"
      },
      "source": [
        "###Step 2: Define Function 1: get_num_attempts()\n",
        "This function will ask the user to enter the number of worng attempts allowed in the game."
      ]
    },
    {
      "cell_type": "code",
      "execution_count": 4,
      "metadata": {
        "id": "gfENHM2J09xG"
      },
      "outputs": [],
      "source": [
        "def get_num_attempts():\n",
        "#Get user-inputted number of incorrect attempts for the game.\n",
        "  while True:\n",
        "    num_attempts = input('How many incorrect attempts do you want? [1-25] ')\n",
        "    try:\n",
        "      num_attempts = int(num_attempts)\n",
        "      if 1 <= num_attempts <= 25:\n",
        "        return num_attempts\n",
        "      else:\n",
        "        print('{0} is not between 1 and 25'.format(num_attempts))\n",
        "    except ValueError:\n",
        "      print('{0} is not an integer between 1 and 25'.format(num_attempts))\n",
        " "
      ]
    },
    {
      "cell_type": "markdown",
      "metadata": {
        "id": "Urpiw9SvI1qu"
      },
      "source": [
        "###Step 3: Function 2: get_min_word_length()\n",
        "Now that you know the total number of worng attempts. Next step is to create a function which will ask the user to enter the length of the word to be predicted in the game."
      ]
    },
    {
      "cell_type": "code",
      "execution_count": 5,
      "metadata": {
        "id": "gAksAlg81-z-"
      },
      "outputs": [],
      "source": [
        "def get_min_word_length():\n",
        "#Get user-inputted minimum word length for the game.\n",
        "  while True:\n",
        "    min_word_length = input('What minimum word length do you want? [4-16] ')\n",
        "    try:\n",
        "      min_word_length = int(min_word_length)\n",
        "      if 4 <= min_word_length <= 16:\n",
        "        return min_word_length\n",
        "      else:\n",
        "        print('{0} is not between 4 and 16'.format(min_word_length))\n",
        "    except ValueError:\n",
        "      print('{0} is not an integer between 4 and 16'.format(min_word_length)) "
      ]
    },
    {
      "cell_type": "markdown",
      "metadata": {
        "id": "p_i3D_qsJmyi"
      },
      "source": [
        "###Step 4: Function 3: get_display_word()\n",
        "This function will be used later to display the word if the word length and index length is not same."
      ]
    },
    {
      "cell_type": "code",
      "execution_count": 6,
      "metadata": {
        "id": "vWOSiugP2blr"
      },
      "outputs": [],
      "source": [
        "def get_display_word(word, idxs):     \n",
        "# Get the word suitable for display.\n",
        "  if len(word) != len(idxs):        \n",
        "     raise ValueError('Word length and indices length are not the same')     \n",
        "     displayed_word = ''.join([letter if idxs[i] else '*' for i, letter in enumerate(word)])\n",
        "     return displayed_word.strip()"
      ]
    },
    {
      "cell_type": "markdown",
      "metadata": {
        "id": "2kF5EekLKNlg"
      },
      "source": [
        "###Step 5: Function 4: get_next_letter()\n",
        "Define a function which could get the next guess from user as an input. Here we have to check the following:\n",
        "- Next letter is not more than a single character\n",
        "- Next letter is a letter (no other character)\n",
        "- Next letter is not already guessed before\n"
      ]
    },
    {
      "cell_type": "code",
      "execution_count": 7,
      "metadata": {
        "id": "QsvH-SIU2e5_"
      },
      "outputs": [],
      "source": [
        "from string import ascii_lowercase\n",
        "def get_next_letter(remaining_letters):\n",
        "#Get the user-inputted next letter.\n",
        "  if len(remaining_letters) == 0:\n",
        "    raise ValueError('There are no remaining letters')\n",
        "  while True:\n",
        "    next_letter = input('Guess a character: ').lower()\n",
        "    if len(next_letter) != 1:\n",
        "      print('{0} is not a single character'.format(next_letter))\n",
        "    elif next_letter not in ascii_lowercase:\n",
        "      print('{0} is not a letter'.format(next_letter))\n",
        "    elif next_letter not in remaining_letters:\n",
        "      print('{0} has been guessed before'.format(next_letter))\n",
        "    else:\n",
        "      remaining_letters.remove(next_letter)\n",
        "    return next_letter "
      ]
    },
    {
      "cell_type": "markdown",
      "metadata": {
        "id": "4V-iPFH2LYOL"
      },
      "source": [
        "###Step 6: Function 5: play_hangman()\n",
        "Final function to integrate all the above functions. Here you need to allow the user to retry in case he wants. \n",
        "- Length of words entered by the user defines the difficulty in the game. \n",
        "- Randomly select a word from the Random-word library.\n",
        "- Display the current status of the game. Like: Total remaining attempts, list of previous guess made by the user.\n",
        "- Once the game is ended finally disply if the user has won or not depening on his successful attempt.\n"
      ]
    },
    {
      "cell_type": "code",
      "execution_count": 8,
      "metadata": {
        "id": "B1Rg7xdx-gTP"
      },
      "outputs": [],
      "source": [
        "def play_hangman():\n",
        "    \"\"\"Play a game of hangman.\n",
        "    At the end of the game, returns if the player wants to retry.\n",
        "    \"\"\"\n",
        "    name = input(\"What is your name? \")\n",
        "    print(\"Hello, \" + name, \"Let's play hangman!\")\n",
        "    \n",
        "    # Let player specify difficulty\n",
        "    print('Starting a game of Hangman...')\n",
        "    attempts_remaining = get_num_attempts()\n",
        "    min_word_length = get_min_word_length()\n",
        "\n",
        "    # Randomly select a word\n",
        "    print('Selecting a word...')\n",
        "    word = r.get_random_word(minLength = (min_word_length-1))\n",
        "    print()\n",
        "\n",
        "    # Initialize game state variables\n",
        "    idxs = [letter not in ascii_lowercase for letter in word]\n",
        "    remaining_letters = set(ascii_lowercase)\n",
        "    wrong_letters = []\n",
        "    word_solved = False\n",
        "\n",
        "    # Main game loop\n",
        "    while attempts_remaining > 0 and not word_solved:\n",
        "        # Print current game state\n",
        "        print('Word: {0}'.format(get_display_word(word, idxs)))\n",
        "        print('Attempts Remaining: {0}'.format(attempts_remaining))\n",
        "        print('Previous Guesses: {0}'.format(' '.join(wrong_letters)))\n",
        "\n",
        "        # Get player's next letter guess\n",
        "        next_letter = get_next_letter(remaining_letters)\n",
        "\n",
        "        # Check if letter guess is in word\n",
        "        if next_letter in word:\n",
        "            # Guessed correctly\n",
        "            print('{0} is in the word!'.format(next_letter))\n",
        "\n",
        "            # Reveal matching letters\n",
        "            for i in range(len(word)):\n",
        "                if word[i] == next_letter:\n",
        "                    idxs[i] = True\n",
        "        else:\n",
        "            # Guessed incorrectly\n",
        "            print('{0} is NOT in the word!'.format(next_letter))\n",
        "\n",
        "            # Decrement num of attempts left and append guess to wrong guesses\n",
        "            attempts_remaining -= 1\n",
        "            wrong_letters.append(next_letter)\n",
        "\n",
        "        # Check if word is completely solved\n",
        "        if False not in idxs:\n",
        "            word_solved = True\n",
        "        print()\n",
        "\n",
        "    # The game is over: reveal the word\n",
        "    print('The word is {0}'.format(word))\n",
        "\n",
        "    # Notify player of victory or defeat\n",
        "    if word_solved:\n",
        "        print('Congratulations!'+name+ 'You won!')\n",
        "    else:\n",
        "        print('Oops'+name+' you were not able to guess the word ')\n",
        "\n",
        "    # Ask player if he/she wants to try again\n",
        "    try_again = input('Would you like to try again? [y/n] ')\n",
        "    return try_again.lower() == 'y'"
      ]
    },
    {
      "cell_type": "code",
      "execution_count": 11,
      "metadata": {
        "colab": {
          "base_uri": "https://localhost:8080/"
        },
        "id": "vn4c5KuF9s8L",
        "outputId": "6c1d4c40-68de-4ee7-a710-33602647b542"
      },
      "outputs": [
        {
          "name": "stdout",
          "output_type": "stream",
          "text": [
            "What is your name? 5\n",
            "Hello, 5 Let's play hangman!\n",
            "Starting a game of Hangman...\n",
            "How many incorrect attempts do you want? [1-25] 6\n",
            "What minimum word length do you want? [4-16] 5\n",
            "Selecting a word...\n",
            "\n",
            "Word: None\n",
            "Attempts Remaining: 6\n",
            "Previous Guesses: \n",
            "Guess a character: r\n",
            "r is in the word!\n",
            "\n",
            "Word: None\n",
            "Attempts Remaining: 6\n",
            "Previous Guesses: \n",
            "Guess a character: a\n",
            "a is NOT in the word!\n",
            "\n",
            "Word: None\n",
            "Attempts Remaining: 5\n",
            "Previous Guesses: a\n",
            "Guess a character: p\n",
            "p is NOT in the word!\n",
            "\n",
            "Word: None\n",
            "Attempts Remaining: 4\n",
            "Previous Guesses: a p\n",
            "Guess a character: i\n",
            "i is NOT in the word!\n",
            "\n",
            "Word: None\n",
            "Attempts Remaining: 3\n",
            "Previous Guesses: a p i\n",
            "Guess a character: o\n",
            "o is in the word!\n",
            "\n",
            "Word: None\n",
            "Attempts Remaining: 3\n",
            "Previous Guesses: a p i\n",
            "Guess a character: w\n",
            "w is NOT in the word!\n",
            "\n",
            "Word: None\n",
            "Attempts Remaining: 2\n",
            "Previous Guesses: a p i w\n",
            "Guess a character: e\n",
            "e is in the word!\n",
            "\n",
            "Word: None\n",
            "Attempts Remaining: 2\n",
            "Previous Guesses: a p i w\n",
            "Guess a character: t\n",
            "t is in the word!\n",
            "\n",
            "Word: None\n",
            "Attempts Remaining: 2\n",
            "Previous Guesses: a p i w\n",
            "Guess a character: s\n",
            "s is NOT in the word!\n",
            "\n",
            "Word: None\n",
            "Attempts Remaining: 1\n",
            "Previous Guesses: a p i w s\n",
            "Guess a character: l\n",
            "l is NOT in the word!\n",
            "\n",
            "The word is torment\n",
            "Oops5 you were not able to guess the word \n",
            "Would you like to try again? [y/n] n\n"
          ]
        }
      ],
      "source": [
        "if __name__ == '__main__':\n",
        "    while play_hangman():\n",
        "        print()\n",
        " "
      ]
    }
  ],
  "metadata": {
    "colab": {
      "authorship_tag": "ABX9TyOkRAxoWRwUCALO8QT4v/nF",
      "collapsed_sections": [],
      "include_colab_link": true,
      "name": "Hangman.ipynb",
      "provenance": []
    },
    "kernelspec": {
      "display_name": "Python 3",
      "name": "python3"
    }
  },
  "nbformat": 4,
  "nbformat_minor": 0
}
